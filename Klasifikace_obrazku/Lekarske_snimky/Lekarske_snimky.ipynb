{
 "cells": [
  {
   "cell_type": "markdown",
   "id": "b2ffb34e-66ad-40c8-8959-396f9ec210ae",
   "metadata": {},
   "source": [
    "# Lékařské snímky\n",
    "\n",
    "Tato datová sada je jednoduchý soubor lékařských snímků typu MNIST v rozměru 64x64.\n",
    "\n",
    "K dispozici je 58954 lékařských snímků patřících do 6 tříd.\n",
    "* CT břicha\n",
    "* CT prsou\n",
    "* CT hrudi\n",
    "* CXR\n",
    "* Ruka\n",
    "* CT ruky\n",
    "\n",
    "Obrázky jsou uloženy ve formátu jpeg."
   ]
  },
  {
   "cell_type": "markdown",
   "id": "e25b7fc8-0905-4266-bc1f-77a8ffec218a",
   "metadata": {},
   "source": [
    "# Úkol\n",
    "Vytvořte model, který katogorizuje obrázek do jedné z tříd."
   ]
  }
 ],
 "metadata": {
  "kernelspec": {
   "display_name": "Python 3 (ipykernel)",
   "language": "python",
   "name": "python3"
  },
  "language_info": {
   "codemirror_mode": {
    "name": "ipython",
    "version": 3
   },
   "file_extension": ".py",
   "mimetype": "text/x-python",
   "name": "python",
   "nbconvert_exporter": "python",
   "pygments_lexer": "ipython3",
   "version": "3.8.10"
  }
 },
 "nbformat": 4,
 "nbformat_minor": 5
}
