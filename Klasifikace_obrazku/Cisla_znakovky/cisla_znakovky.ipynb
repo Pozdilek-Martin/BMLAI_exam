{
 "cells": [
  {
   "cell_type": "markdown",
   "id": "1b5d467e-b7d8-456a-888f-4b904e3bda9a",
   "metadata": {},
   "source": [
    "# Čislice ve znakové řeči\n",
    "\n",
    "Znakové jazyky (známé také jako znakové jazyky) jsou jazyky, které ke sdělování významu používají manuální komunikaci. Může jít o současné používání gest rukou, pohybů, orientace prstů, paží nebo těla a výrazů obličeje ke sdělení myšlenek mluvčího.\n",
    "\n",
    "Source: https://en.wikipedia.org/wiki/Sign_language"
   ]
  },
  {
   "cell_type": "markdown",
   "id": "9cefc765-de14-458c-9066-94b2a7e30b8a",
   "metadata": {},
   "source": [
    "# Podrobnosti o souborech dat\n",
    "\n",
    "* Velikost obrázku: 64x64\n",
    "* Barevný prostor: Grayscale\n",
    "* Formát souboru: npy\n",
    "* Počet tříd: 10 (číslice: 0-9)"
   ]
  },
  {
   "cell_type": "markdown",
   "id": "44ebb457-48ad-43e4-b6b8-aa6437db0338",
   "metadata": {},
   "source": [
    "# Úkol\n",
    "Vytvořte model, který rozpozná číslice znakového jazyka z obrázku."
   ]
  }
 ],
 "metadata": {
  "kernelspec": {
   "display_name": "Python 3 (ipykernel)",
   "language": "python",
   "name": "python3"
  },
  "language_info": {
   "codemirror_mode": {
    "name": "ipython",
    "version": 3
   },
   "file_extension": ".py",
   "mimetype": "text/x-python",
   "name": "python",
   "nbconvert_exporter": "python",
   "pygments_lexer": "ipython3",
   "version": "3.8.10"
  }
 },
 "nbformat": 4,
 "nbformat_minor": 5
}
