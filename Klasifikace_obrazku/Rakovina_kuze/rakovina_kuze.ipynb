{
 "cells": [
  {
   "cell_type": "markdown",
   "id": "71cf734e-3868-4eb3-bf99-2c29e109ead4",
   "metadata": {},
   "source": [
    "# Rakovina kůže\n",
    "\n",
    "Tato datová sada je kolekcí souborů JPEG obsahujících buď rakovinné, nebo nerakovinné snímky kůže."
   ]
  },
  {
   "cell_type": "markdown",
   "id": "b8c22801-07cc-470e-899e-1b518a228f9f",
   "metadata": {},
   "source": [
    "# Úkol\n",
    "Vytvořte model, který rozpozná rakovinu kůže."
   ]
  }
 ],
 "metadata": {
  "kernelspec": {
   "display_name": "Python 3 (ipykernel)",
   "language": "python",
   "name": "python3"
  },
  "language_info": {
   "codemirror_mode": {
    "name": "ipython",
    "version": 3
   },
   "file_extension": ".py",
   "mimetype": "text/x-python",
   "name": "python",
   "nbconvert_exporter": "python",
   "pygments_lexer": "ipython3",
   "version": "3.8.10"
  }
 },
 "nbformat": 4,
 "nbformat_minor": 5
}
