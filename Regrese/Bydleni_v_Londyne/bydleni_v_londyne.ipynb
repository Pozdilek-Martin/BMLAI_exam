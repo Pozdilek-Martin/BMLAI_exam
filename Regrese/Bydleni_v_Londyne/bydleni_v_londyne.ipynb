{
 "cells": [
  {
   "cell_type": "markdown",
   "id": "f739deee-772d-4f2d-97bd-9c0fb8f1f0f0",
   "metadata": {},
   "source": [
    "# Bydlení v Londýně\n",
    "\n",
    "Datový soubor se zaměřují především na trh s bydlením v Londýně. Obsahuje však mnoho dalších relevantních údajů:\n",
    "\n",
    "Údaje jsou rozděleny podle oblastí Londýna, tzv. boroughs (k jejich identifikaci existuje příznak), ale některé proměnné mají pro referenci jiné geografické regiony Spojeného království (např. Anglie, Severovýchod atd.)."
   ]
  },
  {
   "cell_type": "markdown",
   "id": "7fdd143c-87b4-49c3-88b9-c0b58cfcaf66",
   "metadata": {},
   "source": [
    "# Sloupce\n",
    "\n",
    "* code - Kód oblasti\n",
    "* area - Oblast, kterou záznam popisuje\n",
    "* date - Časové období, ke kterému se záznam vztahuje\n",
    "* median_salary - Medián platů osob žijících v oblasti\n",
    "* life_satisfaction - Životní spokojenost osob žijících v oblasti\n",
    "* mean_salary - Průměrná mzda osob žijících v oblasti\n",
    "* recycling_pct - Podíl domácností recyklujících odpad\n",
    "* population_size - Počet osob žijících v oblasti\n",
    "* number_of_jobs - Počet pracovních míst v oblasti\n",
    "* area_size - Velikost oblasti (v hektarech)\n",
    "* no_of_houses - Počet domů v oblasti\n",
    "* borough_flag - Příznak označující, zda je oblast městskou částí Londýna."
   ]
  },
  {
   "cell_type": "markdown",
   "id": "253c19ac-4349-488d-954e-1d63c247f645",
   "metadata": {},
   "source": [
    "# Úkol\n",
    "Vytvořte model, který předpovídá plat na základě informací o místě, kde člověk žije."
   ]
  }
 ],
 "metadata": {
  "kernelspec": {
   "display_name": "Python 3 (ipykernel)",
   "language": "python",
   "name": "python3"
  },
  "language_info": {
   "codemirror_mode": {
    "name": "ipython",
    "version": 3
   },
   "file_extension": ".py",
   "mimetype": "text/x-python",
   "name": "python",
   "nbconvert_exporter": "python",
   "pygments_lexer": "ipython3",
   "version": "3.8.10"
  }
 },
 "nbformat": 4,
 "nbformat_minor": 5
}
