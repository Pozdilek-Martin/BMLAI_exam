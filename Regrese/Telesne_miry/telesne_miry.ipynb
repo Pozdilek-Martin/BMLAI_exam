{
 "cells": [
  {
   "cell_type": "markdown",
   "id": "1d3461c1-41b4-4e3b-9bb4-031fc6e1ae5e",
   "metadata": {},
   "source": [
    "# Tělesné míry\n",
    "\n",
    "Tato data obsahují tělesné míry různých osob."
   ]
  },
  {
   "cell_type": "markdown",
   "id": "c4a9d897-2a5d-4d46-9df7-cda3a37841f7",
   "metadata": {},
   "source": [
    "# Sloupce\n",
    "\n",
    "* Gender - Muži a ženy (M=1 a F=2)\n",
    "* Age - 1 rok a více\n",
    "* HeadCircumference - obvod hlavy v palcích\n",
    "* ShoulderWidth - šířka ramen v palcích\n",
    "* ChestWidth - šířka hrudníku v palcích \n",
    "* Belly - břicho v palcích\n",
    "* Waist - pas v palcích \n",
    "* Hips - boky v palcích\n",
    "* ArmLength - délka paže v palcích\n",
    "* Shoulder To Waist - od ramene k pasu v palcích\n",
    "* Waist To Knee - od pasu ke kolenům\n",
    "* LegLength - délka nohou \n",
    "* Total Height - celková výška"
   ]
  },
  {
   "cell_type": "markdown",
   "id": "a6066021-48d9-4cfe-ad2c-0403d009e57b",
   "metadata": {},
   "source": [
    "# Úkol\n",
    "Vytvoření modelu, který předpovídá věk na základě velikosti osob. Model nemusí obsahovat všechny sloupce."
   ]
  }
 ],
 "metadata": {
  "kernelspec": {
   "display_name": "Python 3 (ipykernel)",
   "language": "python",
   "name": "python3"
  },
  "language_info": {
   "codemirror_mode": {
    "name": "ipython",
    "version": 3
   },
   "file_extension": ".py",
   "mimetype": "text/x-python",
   "name": "python",
   "nbconvert_exporter": "python",
   "pygments_lexer": "ipython3",
   "version": "3.8.10"
  }
 },
 "nbformat": 4,
 "nbformat_minor": 5
}
