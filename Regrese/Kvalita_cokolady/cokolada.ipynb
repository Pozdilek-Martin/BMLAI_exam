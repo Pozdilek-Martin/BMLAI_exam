{
 "cells": [
  {
   "cell_type": "markdown",
   "id": "5468390f-7eac-4838-940c-c5b6ccd24e01",
   "metadata": {},
   "source": [
    "# Hodnocení čokolády\n",
    "\n",
    "Čokoláda má v naší společnosti zásadní význam, je to potravinářský výrobek z pražených a mletých kakaových lusků, který je k dostání v tekuté, pevné nebo pastovité formě, samostatně nebo jako ochucovadlo v jiných potravinách.\n",
    "\n",
    "Kakao se v určité formě konzumuje přinejmenším od dob olmécké civilizace (19.-11. století př. n. l.) a většina mezoamerických národů - včetně Mayů a Aztéků - vyráběla čokoládové nápoje.\n",
    "\n",
    "První pevnou tabulku čokolády uvedla do výroby společnost J. S. Fry & Sons z anglického Bristolu v roce 1847 a dnes se odhaduje, že toto odvětví představuje 130,56 miliardy dolarů.\n",
    "\n",
    "Vzhledem k tomu všemu obsahuje tato datová sada recenze více než 2400 různých čokoládových tyčinek spolu s metadaty a informacemi o výrobcích se sídlem v USA a Kanadě."
   ]
  },
  {
   "attachments": {},
   "cell_type": "markdown",
   "id": "ca80c954-a7bd-4ae2-9589-1f09c618d999",
   "metadata": {},
   "source": [
    "# Sloupce\n",
    "* REF: ID vzorku\n",
    "* Company (Manufacturer): Společnost, která vyrábí čokoládovou tyčinku\n",
    "* Company Location: Země, kde se společnost nachází\n",
    "* Review Date: Datum přezkumu\n",
    "* Country of Bean Origin: Země, kde se fazole pěstují\n",
    "* Specific Bean Origin or Bar Name: Informace o šarži zrn\n",
    "* Cocoa Percent: Podíl kakaa v tabulce čokolády\n",
    "* Ingredients: Další přítomné relevantní složky\n",
    "* Most Memorable Characteristics: Nejpamátnější chuťové zážitky recenzentů v recenzi\n",
    "* Rating: Hodnocení čokolády\n",
    "\n",
    "        4.0 - 5.0 = Vynikající\n",
    "        3.5 - 3.9 = Důrazně doporučujeme\n",
    "        3.0 - 3.4 = Doporučené\n",
    "        2.0 - 2.9 = Zklamání\n",
    "        1.0 - 1.9 = Nepříjemné"
   ]
  },
  {
   "cell_type": "markdown",
   "id": "7181e0dd-aab5-435f-a301-83c533090316",
   "metadata": {},
   "source": [
    "# Úkol\n",
    "Vytvoření modelu, který předpovídá hodnocení čokolády na základě vstupních funkcí."
   ]
  }
 ],
 "metadata": {
  "kernelspec": {
   "display_name": "Python 3 (ipykernel)",
   "language": "python",
   "name": "python3"
  },
  "language_info": {
   "codemirror_mode": {
    "name": "ipython",
    "version": 3
   },
   "file_extension": ".py",
   "mimetype": "text/x-python",
   "name": "python",
   "nbconvert_exporter": "python",
   "pygments_lexer": "ipython3",
   "version": "3.8.10"
  }
 },
 "nbformat": 4,
 "nbformat_minor": 5
}
