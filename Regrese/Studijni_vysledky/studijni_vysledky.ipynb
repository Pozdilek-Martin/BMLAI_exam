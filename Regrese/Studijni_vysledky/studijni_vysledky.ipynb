{
 "cells": [
  {
   "cell_type": "markdown",
   "id": "1d3461c1-41b4-4e3b-9bb4-031fc6e1ae5e",
   "metadata": {},
   "source": [
    "# Údaje o výsledcích studentů v Portugalsku\n",
    "\n",
    "Tato data ukazují výsledky studentů ve středním vzdělávání na dvou portugalských školách.\n",
    "\n",
    "Atributy dat zahrnují známky žáků, demografické, sociální a školní charakteristiky) a byly shromážděny pomocí školních zpráv a dotazníků.\n",
    "\n",
    "Soubory dat se týkají výkonu v jednom předmětu: v portugalském jazyce (por).\n",
    "\n",
    "Důležitá poznámka: cílový atribut G3 má silnou korelaci s atributy G2 a G1. K tomu dochází proto, že G3 je známka posledního ročníku (vydávaná ve 3. období), zatímco G1 a G2 odpovídají známkám z 1. a 2. období.\n",
    "\n",
    "Předpovědět G3 bez G2 a G1 je obtížnější, ale taková předpověď je mnohem užitečnější."
   ]
  },
  {
   "cell_type": "markdown",
   "id": "c4a9d897-2a5d-4d46-9df7-cda3a37841f7",
   "metadata": {},
   "source": [
    "# Popis sloupců\n",
    "\n",
    "* school: 'GP' - Gabriel Pereira, 'MS' - Mousinho da Silveira\n",
    "* sex: - F - žena, M - muž\n",
    "* age:  15 -22\n",
    "* address: 'U' - město, 'R' - venkov\n",
    "* family size: GT3 - větší než 3, LE3 - menší než 3\n",
    "* Pstatus: společné soužití rodičů (binary: 'T' - společné bydlení, 'A' - odděleně)\n",
    "* Medu: vzdělání matky (číselná: 0 - žádné, 1 - základní vzdělání (4. třída), 2 základní vzdělání (5. až 9. třída), 3 - střední vzdělání nebo 4 vysokoškolské vzdělání.)\n",
    "* Fedu: vzdělání otce (číselná: 0 - žádné, 1 - základní vzdělání (4. třída), 2 základní vzdělání (5. až 9. třída), 3 - střední vzdělání nebo 4 vysokoškolské vzdělání.)\n",
    "* Mjob: práce matky (výčet: 'teacher', 'health' care related, civil 'services' (např. administrativní, policejní), 'at_home', 'other')\n",
    "* Fjob: práce otce (výčet: 'teacher', 'health' care related, civil 'services' např. administrativní, policejní), 'at_home', 'other')\n",
    "* reason: důvod, proč si vybrat tuto školu (výčet: close to 'home', school 'reputation', 'course' preference or 'other')\n",
    "* guardian: opatrovník žáka (výčet: 'mother', 'father',  'other')\n",
    "* traveltime: doba cesty z domova do školy (číselná: 1 - <15 min., 2 - 15 to 30 min., 3 - 30 min. to 1 hour, or 4 - >1 hour)\n",
    "* studytime: týdenní studijní čas (číselná: 1 - <2 hours, 2 - 2 to 5 hours, 3 - 5 to 10 hours, or 4 - >10 hours)\n",
    "* failures: počet neúspěchů ve třídě v minulosti (číselná: n if 1<=n<3, else 4)\n",
    "* schoolsup: dodatečná vzdělávací podpora (binary: yes, no)\n",
    "* famsup: podpora rodinného vzdělávání (binary: yes, no)\n",
    "* paid: dodatečné placené hodiny v rámci předmětu (portugalština). (binary: yes, no)\n",
    "* activities: mimoškolní aktivity (binary: yes, no)\n",
    "* nursery: navštěvoval mateřskou školu (binary: yes, no)\n",
    "* higher: chce studovat na vysoké škole (binary: yes, no)\n",
    "* internet: Přístup k internetu doma (binary: yes, no)\n",
    "* romantic: s romantickým vztahem (binary: yes, no)\n",
    "* famrel: kvalita rodinných vztahů (číselná: od 1 - velmi špatné po 5 - výborne)\n",
    "* freetime: volný čas po škole (číselná: od 1 - velmi málo po 5 - velmi mnoho)\n",
    "* goout: vycházky s přáteli (číselná: od 1 - velmi nízká po 5 - velmi vysoká)\n",
    "* Dalc: konzumace alkoholu v pracovní den (číselná: od 1 - velmi nízká po 5 - vvelmi vysoká)\n",
    "* Walc: víkendová konzumace alkoholu (číselná: od 1 - velmi nízká po 5 - velmi vysoká)\n",
    "* health: aktuální zdravotní stav (číselná: od 1 - velmi špatný po 5 - velmi dobrý)\n",
    "* absences: počet absencí ve škole (číselná: od 0 do 93)\n",
    "* G1: hodnocení první třídy (číselná: od 0 do 20)\n",
    "* G2: hodnocení druhé třída (číselná: od 0 do 20)\n",
    "* G3: závěrečná známka (číselná: od 0 do 20, výstupní cíl)"
   ]
  },
  {
   "cell_type": "markdown",
   "id": "e1fd9426-2f4d-4256-a021-4ddffd122499",
   "metadata": {},
   "source": [
    "# Úkol\n",
    "Vytvořte model, který předpovídá výsledný stupeň G3 na základě demografických, sociálních a školních charakteristik."
   ]
  }
 ],
 "metadata": {
  "kernelspec": {
   "display_name": "Python 3 (ipykernel)",
   "language": "python",
   "name": "python3"
  },
  "language_info": {
   "codemirror_mode": {
    "name": "ipython",
    "version": 3
   },
   "file_extension": ".py",
   "mimetype": "text/x-python",
   "name": "python",
   "nbconvert_exporter": "python",
   "pygments_lexer": "ipython3",
   "version": "3.8.10"
  }
 },
 "nbformat": 4,
 "nbformat_minor": 5
}
