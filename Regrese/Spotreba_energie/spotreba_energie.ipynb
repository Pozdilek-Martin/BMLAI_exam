{
 "cells": [
  {
   "cell_type": "markdown",
   "id": "5bce6376-7989-48f8-aba6-5740696325a0",
   "metadata": {},
   "source": [
    "# Předpověď spotřeby energie\n",
    "\n",
    "Datový soubor obsahuje údaje o spotřebičích, spotřebě energie ve Wh pro dům.\n",
    "\n",
    "Funkce jsou teploty v domě, vlhkost a venkovní počasí."
   ]
  },
  {
   "cell_type": "markdown",
   "id": "6cda6b1d-19ed-4a05-9357-592b2a3439eb",
   "metadata": {},
   "source": [
    "# Sloupce \n",
    "* date: čas rok-měsíc-den hodina:minuta:sekunda\n",
    "* Appliances: spotřeba energie ve Wh (cílová proměnná pro předpověď)\n",
    "* lights: spotřeba energie svítidel v domě v roce Wh\n",
    "* T1: Teplota v kuchyni, ve stupních Celsia\n",
    "* RH_1: Vlhkost v prostoru kuchyně, v %\n",
    "* T2: Teplota v obývacím pokoji, ve stupních Celsia\n",
    "* RH_2: Vlhkost v obývacím pokoji, v %\n",
    "* T3: Teplota v prostoru prádelny\n",
    "* RH_3: Vlhkost v prostoru prádelny, v %\n",
    "* T4: Teplota v kancelářské místnosti, ve stupních Celsia\n",
    "* RH_4: Vlhkost v kancelářské místnosti, v %\n",
    "* T5: Teplota v koupelně, ve stupních Celsia\n",
    "* RH_5: Vlhkost v koupelně, v %\n",
    "* T6: Teplota vně budovy (severní strana), ve stupních Celsia\n",
    "* RH_6: Vlhkost mimo budovu (severní strana), v %\n",
    "* T7: Teplota v žehlírně , ve stupních Celsia\n",
    "* RH_7: Vlhkost v žehlírně, v %\n",
    "* T8: Teplota v místnosti pro dospívající 2, ve stupních Celsia\n",
    "* RH_8: Vlhkost v místnosti pro dospívající 2, v %\n",
    "* T9: Teplota v místnosti rodičů, ve stupních Celsia\n",
    "* RH_9: Vlhkost v místnosti rodičů, v %\n",
    "* T_out: Venkovní teplota, ve stupních Celsia\n",
    "* Press_mm: vnější tlak, v mm Hg\n",
    "* RH_out: Venkovní vlhkost, v %\n",
    "* Windspeed: rychlost větru , v m/s\n",
    "* Visibility: viditelnost , v km\n",
    "* Tdewpoint: teplota rosného bodu, ve stupních Celsia"
   ]
  },
  {
   "cell_type": "markdown",
   "id": "a21c423a-152e-419c-a63c-f4699c6e07cd",
   "metadata": {},
   "source": [
    "# Útok\n",
    "Vytvoření modelu, který předpovídá spotřebu v Wh"
   ]
  }
 ],
 "metadata": {
  "kernelspec": {
   "display_name": "Python 3 (ipykernel)",
   "language": "python",
   "name": "python3"
  },
  "language_info": {
   "codemirror_mode": {
    "name": "ipython",
    "version": 3
   },
   "file_extension": ".py",
   "mimetype": "text/x-python",
   "name": "python",
   "nbconvert_exporter": "python",
   "pygments_lexer": "ipython3",
   "version": "3.8.10"
  }
 },
 "nbformat": 4,
 "nbformat_minor": 5
}
