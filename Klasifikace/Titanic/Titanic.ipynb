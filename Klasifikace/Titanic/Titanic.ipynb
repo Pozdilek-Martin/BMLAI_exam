{
 "cells": [
  {
   "cell_type": "markdown",
   "id": "7cd53c25-15da-4cd4-996e-fd767314379a",
   "metadata": {},
   "source": [
    "# Titanic\n",
    "Potopení Titaniku je jedním z nejznámějších ztroskotání v historii.\n",
    "\n",
    "Dne 15. dubna 1912 se během své první plavby potopila po srážce s ledovcem loď RMS Titanic, která byla považována za \"nepotopitelnou\".\n",
    "\n",
    "Na palubě bohužel nebyl dostatek záchranných člunů pro všechny, což mělo za následek smrt 1502 z 2224 cestujících a členů posádky.\n",
    "\n",
    "Ačkoli k přežití přispělo i určité štěstí, zdá se, že některé skupiny lidí měly větší šanci přežít než jiné."
   ]
  },
  {
   "attachments": {},
   "cell_type": "markdown",
   "id": "29d38035-fb6e-48fd-8e1d-4a84ae8c672a",
   "metadata": {},
   "source": [
    "## Sloupce\n",
    "  * PassengerId - Passenger Number\n",
    "  * Survived\t- 0 = No, 1 = Yes\n",
    "  * Pclass - Třída vstupenek 1 = 1., 2 = 2., 3 = 3.\n",
    "  * Name - Passenger name\n",
    "  * Sex - pohlaví\n",
    "  * Age - věk\n",
    "  * SibSp - # sourozenců / manželů na palubě Titaniku\n",
    "  * Parch - # rodičů / dětí na palubě Titaniku\n",
    "  * Ticket - Číslo lístku\n",
    "  * Fare - jízdné\n",
    "  * Canbin - Číslo kabiny\n",
    "  * Embarked - Přístav nalodění\tC = Cherbourg, Q = Queenstown, S = Southampton"
   ]
  },
  {
   "cell_type": "markdown",
   "id": "6bb2b2da-b8eb-4236-afc0-63a585e0a41b",
   "metadata": {},
   "source": [
    "# Úkol\n",
    "Vytvořte model, který předpoví, zda cestující přežije, nebo ne."
   ]
  }
 ],
 "metadata": {
  "kernelspec": {
   "display_name": "Python 3 (ipykernel)",
   "language": "python",
   "name": "python3"
  },
  "language_info": {
   "codemirror_mode": {
    "name": "ipython",
    "version": 3
   },
   "file_extension": ".py",
   "mimetype": "text/x-python",
   "name": "python",
   "nbconvert_exporter": "python",
   "pygments_lexer": "ipython3",
   "version": "3.8.10"
  }
 },
 "nbformat": 4,
 "nbformat_minor": 5
}
