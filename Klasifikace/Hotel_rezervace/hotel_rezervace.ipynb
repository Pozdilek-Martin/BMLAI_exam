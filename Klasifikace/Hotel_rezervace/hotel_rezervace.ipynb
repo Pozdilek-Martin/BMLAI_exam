{
 "cells": [
  {
   "cell_type": "markdown",
   "id": "05ca2dd1-0245-4b66-8284-47a0fd762136",
   "metadata": {},
   "source": [
    "# Rezervace hotelu\n",
    "\n",
    "Tento soubor dat obsahuje 119390 pozorování pro městský hotel a hotel v letovisku. \n",
    "\n",
    "Každé pozorování představuje rezervaci hotelu v období od 1. července 2015 do 31. srpna 2017, včetně rezervací, které skutečně dorazily, a rezervací, které byly zrušeny."
   ]
  },
  {
   "attachments": {},
   "cell_type": "markdown",
   "id": "dcb14a23-7af1-42fd-bbc9-8d96d6dd9f59",
   "metadata": {},
   "source": [
    "# Sloupce\n",
    "\n",
    "* hotel: informace o dvou hotelech. Jeden z nich je hotel v letovisku a druhý je městský hotel.\n",
    "* is_canceled: 0 nebo 1 pro zrušení rezervace (cíl)\n",
    "* lead_time: Počet dní, které uplynuly mezi datem zadání rezervace do systému a datem příjezdu\n",
    "* arrival_date_year: Rok příjezdu\n",
    "* arrival_date_month: Měsíc příjezdu s 12 kategoriemi: \"leden\" až \"prosinec\"\n",
    "* arrival_date_week_number: Číslo týdne data příjezdu\n",
    "* arrival_date_day_of_month: Den v měsíci dne příjezdu\n",
    "* stays_in_weekend_nights: Počet víkendových nocí (sobota nebo neděle), které host v hotelu strávil nebo si rezervoval.\n",
    "* stays_in_week_nights: Počet týdenních nocí (pondělí až pátek), které host strávil nebo si rezervoval v hotelu\n",
    "* adults: Počet dospělých\n",
    "* children: Počet dětí\n",
    "* babies: Počet malých dětí\n",
    "* meal: jídlo BB – Bed & Breakfast, Half Board (Snídaně a večeře obvykle),  FB: Full Board (Snídaně, obědy a večeře)\n",
    "* country: Země původu\n",
    "* market_segment: Označení segmentu trhu. \"TA\" (Travel Agents), \"TO\" (Tour Operators)\n",
    "* distribution_channel: Distribuční kanál pro rezervace.  \"TA\" (Travel Agents), \"TO\" (Tour Operators)\n",
    "* is_repeated_guest: Hodnota udávající, zda název rezervace pochází od opakovaného hosta (1), nebo ne (0).\n",
    "* previous_cancellations: Počet předchozích rezervací, které zákazník zrušil před aktuální rezervací.\n",
    "* previous_bookings_not_canceled: Počet předchozích rezervací, které zákazník nezrušil před aktuální rezervací\n",
    "* reserved_room_type: Kód rezervovaného typu pokoje. Kód se uvádí místo označení z důvodu anonymity.\n",
    "* assigned_room_type: Kód typu pokoje přiřazeného k rezervaci. Někdy se přidělený typ pokoje liší od rezervovaného typu pokoje z provozních důvodů hotelu (např. překročení počtu rezervací) nebo na přání zákazníka. Kód se uvádí místo označení z důvodu anonymity.\n",
    "* booking_changes: Počet změn/úprav provedených v rezervaci od okamžiku zadání rezervace do systému PMS do okamžiku přihlášení nebo zrušení rezervace.\n",
    "* deposit_type: No Deposit – nebyl proveden žádný vklad; Non Refund – byla složena záloha v hodnotě celkových nákladů na pobyt; Refundable – byla složena záloha v hodnotě nižší, než jsou celkové náklady na pobyt.\n",
    "* agent: ID cestovní kanceláře, která rezervaci provedla\n",
    "* company: ID společnosti/subjektu, který provedl rezervaci nebo je odpovědný za její úhradu. ID se uvádí místo označení z důvodu anonymity.\n",
    "* days_in_waiting_list: Počet dní, po které byla rezervace v pořadníku, než byla zákazníkovi potvrzena.\n",
    "* customer_type: Group – pokud je rezervace přiřazena ke skupině; přechodná - pokud rezervace není součástí skupiny nebo smlouvy a není přiřazena k jiné přechodné rezervaci; přechodná - pokud je rezervace přechodná, ale je přiřazena alespoň k jiné přechodné rezervaci.\n",
    "* adr: Průměrná denní sazba (vypočtená vydělením součtu všech transakcí s ubytováním celkovým počtem nocí)\n",
    "* required_car_parking_spaces: Počet parkovacích míst požadovaných zákazníkem\n",
    "* total_of_special_requests: Počet zvláštních požadavků zákazníka (např. oddělená postel nebo vysoké patro)\n",
    "* reservation_status: Check-Out – zákazník se odbavil, ale již odjel; No-Show – zákazník se nepřihlásil a neinformoval hotel o důvodech, proč se tak stalo.\n",
    "* reservation_status_date: Datum posledního nastavení stavu. Tuto proměnnou lze použít ve spojení s proměnnou ReservationStatus, abyste zjistili, kdy byla rezervace zrušena nebo kdy se zákazník z hotelu odhlásil.\n"
   ]
  },
  {
   "cell_type": "markdown",
   "id": "184689e5-0d37-424e-9a04-fffdb32666c0",
   "metadata": {},
   "source": [
    "# Úkol\n",
    "Vytvořte model, který předpovídá, zda host dorazí nebo zruší rezervaci."
   ]
  }
 ],
 "metadata": {
  "kernelspec": {
   "display_name": "Python 3 (ipykernel)",
   "language": "python",
   "name": "python3"
  },
  "language_info": {
   "codemirror_mode": {
    "name": "ipython",
    "version": 3
   },
   "file_extension": ".py",
   "mimetype": "text/x-python",
   "name": "python",
   "nbconvert_exporter": "python",
   "pygments_lexer": "ipython3",
   "version": "3.8.10"
  }
 },
 "nbformat": 4,
 "nbformat_minor": 5
}
