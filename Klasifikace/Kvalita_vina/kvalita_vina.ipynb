{
 "cells": [
  {
   "cell_type": "markdown",
   "id": "9bdfc0cb-4fe8-464f-93d5-c074878bd133",
   "metadata": {},
   "source": [
    "# Kvalita vína\n",
    "\n",
    "Datová sada obsahuje vstupní proměnné (na základě fyzikálně-chemických testů) pro různá vína."
   ]
  },
  {
   "cell_type": "markdown",
   "id": "8e204060-a4c2-404d-b9f1-d640cf0374e2",
   "metadata": {},
   "source": [
    "# Sloupce\n",
    "* fixed acidity: Pevná hodnota kyselosti\n",
    "* volatile acidity: Hodnota těkavých kyselin\n",
    "* citric acid: Hodnota kyseliny citronové\n",
    "* residual sugar: Hodnota zbytkového cukru\n",
    "* chlorides: Hodnota chloridů\n",
    "* free sulfur dioxide: Hodnota volného oxidu siřičitého\n",
    "* total sulfur dioxide: Celková hodnota oxidu siřičitého\n",
    "* density: Hodnota hustoty\n",
    "* pH: hotnota pH \n",
    "* sulphates: Hodnota síranů\n",
    "* alcohol: Hodnota alkoholu\n",
    "* quality: kvalita na stupnici 0 - 10\n",
    "* id: identifikace vzorku vína"
   ]
  },
  {
   "cell_type": "markdown",
   "id": "ee0def10-2e13-43b4-a9e4-8052bf9f5299",
   "metadata": {},
   "source": [
    "# Úkol\n",
    "Vytvoření modelu, který předpovídá kvalitu vína na základě fyzikálně-chemických testů."
   ]
  }
 ],
 "metadata": {
  "kernelspec": {
   "display_name": "Python 3 (ipykernel)",
   "language": "python",
   "name": "python3"
  },
  "language_info": {
   "codemirror_mode": {
    "name": "ipython",
    "version": 3
   },
   "file_extension": ".py",
   "mimetype": "text/x-python",
   "name": "python",
   "nbconvert_exporter": "python",
   "pygments_lexer": "ipython3",
   "version": "3.8.10"
  }
 },
 "nbformat": 4,
 "nbformat_minor": 5
}
