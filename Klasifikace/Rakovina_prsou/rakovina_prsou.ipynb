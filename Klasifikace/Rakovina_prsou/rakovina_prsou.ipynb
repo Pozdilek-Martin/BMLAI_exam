{
 "cells": [
  {
   "cell_type": "markdown",
   "id": "81e6a5cf-5098-4464-8f12-ec1766efce65",
   "metadata": {},
   "source": [
    "# Soubor dat o rakovině prsu\n",
    "\n",
    "Datová sada Breast Cancer Wisconsin (Prognostic) shromažďuje údaje získané ze stovek případů rakoviny prsu, což je cenné pro prediktivní prognózu. \n",
    "\n",
    "Zahrnuje znaky, jako je poloměr, textura, plocha, kompaktnost a konkávnost, které byly vytvořeny z digitalizovaného aspirátu z tenké jehly (FNA) hmoty, aby se vytvořily charakteristiky buněčných jader přítomných v každém případu."
   ]
  },
  {
   "cell_type": "markdown",
   "id": "b6161298-58b0-4cfa-86d4-5e5804600488",
   "metadata": {},
   "source": [
    "# Sloupce\n",
    "\n",
    "* ID Number\n",
    "* Time\n",
    "* Tumor: Benigní, maligní nádor\n",
    "* Radius: \n",
    "* Texture\n",
    "* Perimeter\n",
    "* Area\n",
    "* Smoothness\n",
    "* Compactness\n",
    "* Concavity\n",
    "* Concave Points\n",
    "* Symmetry\n",
    "* Fractal Dimension\n",
    "* Radius Variance\n",
    "* Texture Variance\n",
    "* Perimeter Variance\n",
    "* Area Variance\n",
    "* Smoothness Variance\n",
    "* Compactness Variance\n",
    "* Concavity Variance\n",
    "* Concave Points Variance\n",
    "* Symmetry Variance\n",
    "* Fractal Dimension Variance"
   ]
  },
  {
   "cell_type": "markdown",
   "id": "d5114bc8-88bb-459a-a9da-44aa0333fe20",
   "metadata": {},
   "source": [
    "# Úkol\n",
    "\n",
    "Vytvoření modelu, který předpovídá benigní nebo maligní nádor na základě vlastností buněčných jader."
   ]
  },
  {
   "cell_type": "code",
   "execution_count": null,
   "id": "6c1fcf1e-8e79-4b65-a091-7f9d9927a870",
   "metadata": {},
   "outputs": [],
   "source": []
  }
 ],
 "metadata": {
  "kernelspec": {
   "display_name": "Python 3 (ipykernel)",
   "language": "python",
   "name": "python3"
  },
  "language_info": {
   "codemirror_mode": {
    "name": "ipython",
    "version": 3
   },
   "file_extension": ".py",
   "mimetype": "text/x-python",
   "name": "python",
   "nbconvert_exporter": "python",
   "pygments_lexer": "ipython3",
   "version": "3.8.10"
  }
 },
 "nbformat": 4,
 "nbformat_minor": 5
}
