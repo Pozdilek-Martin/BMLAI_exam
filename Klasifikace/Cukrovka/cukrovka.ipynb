{
 "cells": [
  {
   "cell_type": "markdown",
   "id": "e4bf3ede-c932-4caa-b0ab-7067e77a0631",
   "metadata": {},
   "source": [
    "# Časná diagnostika cukrovky\n",
    "\n",
    "\n",
    "Cukrovka je jedním z nejrychleji rostoucích chronických život ohrožujících onemocnění, které podle zprávy Světové zdravotnické organizace (WHO) z roku 2018 postihlo již 422 milionů lidí na celém světě. \n",
    "\n",
    "Vzhledem k přítomnosti relativně dlouhé asymptomatické fáze je pro klinicky významný výsledek vždy žádoucí včasné odhalení diabetu. Přibližně 50 % všech osob trpících cukrovkou není kvůli její dlouhodobé asymptomatické fázi diagnostikováno.\n",
    "\n",
    "Tento soubor dat obsahuje 520 pozorování se 17 charakteristikami, shromážděných pomocí přímých dotazníků a výsledků diagnostiky od pacientů v nemocnici Sylhet Diabetes Hospital v Sylhetu v Bangladéši."
   ]
  },
  {
   "cell_type": "markdown",
   "id": "4c9732ba-258f-4597-a60f-90df8040dc87",
   "metadata": {},
   "source": [
    "# Sloupce\n",
    "* age: věk\n",
    "* gender: pohlaví\n",
    "* polyuria: Zda u pacienta došlo k nadměrnému močení, nebo ne.\n",
    "* olydipsia: Zda pacient pociťoval nadměrnou žízeň/nadměrné pití, nebo ne.\n",
    "* sudden_weight_loss: Zda pacient prodělal epizodu náhlého úbytku hmotnosti, nebo ne.\n",
    "* weakness: Zda měl pacient epizodu pocitu slabosti.\n",
    "* polyphagia: Zda měl pacient epizodu nadměrného/extrémního hladu, nebo ne.\n",
    "* genital_thrush: Ať už měl pacient kvasinkovou infekci, nebo ne.\n",
    "* visual_blurring: Zda měl pacient epizodu rozmazaného vidění.\n",
    "* itching: Zda měl pacient epizodu svědění.\n",
    "* irritability: Zda se u pacienta vyskytla epizoda podrážděnosti.\n",
    "* delayed_healing: Zda měl pacient při poranění zaznamenané opožděné hojení.\n",
    "* partial_paresis: Zda pacient prodělal epizodu oslabení svalu/skupiny svalů, nebo ne.\n",
    "* muscle_stiffness: Zda se u pacienta vyskytla epizoda svalové ztuhlosti.\n",
    "* alopecia: Ať už u pacienta došlo k vypadávání vlasů, nebo ne.\n",
    "* obesity: Zda lze pacienta považovat za obézního či nikoliv na základě jeho indexu tělesné hmotnosti.\n",
    "* class: Přítomnost cukrovky"
   ]
  },
  {
   "cell_type": "markdown",
   "id": "8462f84d-db3a-4181-bed8-97de390acd81",
   "metadata": {},
   "source": [
    "# Úkol\n",
    "Vytvoření binárního klasifikačního modelu, který předpovídá cukrovku na základě příznaků pacienta."
   ]
  }
 ],
 "metadata": {
  "kernelspec": {
   "display_name": "Python 3 (ipykernel)",
   "language": "python",
   "name": "python3"
  },
  "language_info": {
   "codemirror_mode": {
    "name": "ipython",
    "version": 3
   },
   "file_extension": ".py",
   "mimetype": "text/x-python",
   "name": "python",
   "nbconvert_exporter": "python",
   "pygments_lexer": "ipython3",
   "version": "3.8.10"
  }
 },
 "nbformat": 4,
 "nbformat_minor": 5
}
