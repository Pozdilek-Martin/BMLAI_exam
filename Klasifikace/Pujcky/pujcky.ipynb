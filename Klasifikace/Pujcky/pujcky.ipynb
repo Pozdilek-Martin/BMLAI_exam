{
 "cells": [
  {
   "cell_type": "markdown",
   "id": "b0a7606e-0449-4931-b8b9-be8545d2d8db",
   "metadata": {},
   "source": [
    "# Půjčky pro zákazníky obchodu\n",
    "\n",
    "Informace o zákaznících, kteří uskutečnili nákup s úvěrem, a následné informace o tom, zda se jednalo o problémový úvěr."
   ]
  },
  {
   "cell_type": "markdown",
   "id": "8160d8d5-0fb6-4a47-970d-8c72e88abf9d",
   "metadata": {},
   "source": [
    "# Sloupce\n",
    "* month: Měsíc nákupu (1-12)\n",
    "* credit_amount: Velikost půjčky\n",
    "* credit_term: Podmínky půjčky (délka půjčky)\n",
    "* age: věk zákazníka\n",
    "* sex: pohlaví zákazníka\n",
    "* education: vzdělávání zákazníků\n",
    "* product_type: produkt, na který byla půjčka sjednána\n",
    "* having_children_flg: zákazník má dítě (0, 1)\n",
    "* region: kód kategorie umístění zákazníka\n",
    "* income: Příjmy od zákazníků\n",
    "* family_status: Frodinný stav (ženatý, vdaná, svobodný, jiný)\n",
    "* phone_operator: kód telefonního operátora\n",
    "* is_client: Je již naším klientem?\n",
    "* bad_client_target: 0 dobrý klient, 1 špatný klient"
   ]
  },
  {
   "cell_type": "markdown",
   "id": "089dc43f-50e6-49b1-85ed-f5ace093348b",
   "metadata": {},
   "source": [
    "# Úkol\n",
    "Vytvořte binární klasifikační model, který poradí prodejci, zda je bezpečné nabídnout zákazníkovi náklad."
   ]
  },
  {
   "cell_type": "code",
   "execution_count": null,
   "id": "1fd7c6cc-7a75-4e0a-957f-29fd0c35037f",
   "metadata": {},
   "outputs": [],
   "source": []
  }
 ],
 "metadata": {
  "kernelspec": {
   "display_name": "Python 3 (ipykernel)",
   "language": "python",
   "name": "python3"
  },
  "language_info": {
   "codemirror_mode": {
    "name": "ipython",
    "version": 3
   },
   "file_extension": ".py",
   "mimetype": "text/x-python",
   "name": "python",
   "nbconvert_exporter": "python",
   "pygments_lexer": "ipython3",
   "version": "3.8.10"
  }
 },
 "nbformat": 4,
 "nbformat_minor": 5
}
